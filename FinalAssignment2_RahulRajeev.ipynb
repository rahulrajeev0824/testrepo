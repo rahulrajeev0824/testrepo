{
  "metadata": {
    "kernelspec": {
      "name": "python",
      "display_name": "Pyolite",
      "language": "python"
    },
    "language_info": {
      "codemirror_mode": {
        "name": "python",
        "version": 3
      },
      "file_extension": ".py",
      "mimetype": "text/x-python",
      "name": "python",
      "nbconvert_exporter": "python",
      "pygments_lexer": "ipython3",
      "version": "3.8"
    }
  },
  "nbformat_minor": 4,
  "nbformat": 4,
  "cells": [
    {
      "cell_type": "markdown",
      "source": "<center>\n    <img src=\"https://s3-api.us-geo.objectstorage.softlayer.net/cf-courses-data/CognitiveClass/Logos/organization_logo/organization_logo.png\" width=\"300\" alt=\"cognitiveclass.ai logo\"  />\n</center>\n",
      "metadata": {}
    },
    {
      "cell_type": "markdown",
      "source": "# My Jupyter Notebook on IBM Watson Studio",
      "metadata": {}
    },
    {
      "cell_type": "markdown",
      "source": "**Rahul Rajeev** <br>\nTutor",
      "metadata": {}
    },
    {
      "cell_type": "markdown",
      "source": "*I am interested in data science because I completed my undergraduate studies at UC Berkeley with a B.A. in Astrophysics. Most of the courses near the end of my studies involved heavy data analysis on astronomical data sets, and so I believe that learning data science could help me understand data analysis and modeling better.*",
      "metadata": {}
    },
    {
      "cell_type": "markdown",
      "source": "### In the cell below, I will print the statement Hello, World!, a typical starting place for coding. Then I will assign a variable to the sum of 1+1 and write out a sentence that states the fact",
      "metadata": {}
    },
    {
      "cell_type": "code",
      "source": "print(\"Hello, World!\")\nsum = 1 + 1\nprint(\"This is the sum of 1 + 1: \" + str(sum) + \".\") ",
      "metadata": {
        "trusted": true
      },
      "execution_count": 4,
      "outputs": [
        {
          "name": "stdout",
          "text": "Hello, World!\nThis is the sum of 1 + 1: 2.\n",
          "output_type": "stream"
        }
      ]
    },
    {
      "cell_type": "markdown",
      "source": "**Bulleted List**\n\n- this is item 1\n- this is item 2\n- this is item 3\n\n**Numbered List**\n1. This is item A\n2. This is item B\n3. This is item C\n\n<center>Table</center>\n\n| header | header | header |\n| ------ | ------ | ------ |\n| cell | cell | cell |\n| cell | cell | cell |\n| cell | cell | cell |",
      "metadata": {}
    },
    {
      "cell_type": "code",
      "source": "",
      "metadata": {},
      "execution_count": null,
      "outputs": []
    }
  ]
}